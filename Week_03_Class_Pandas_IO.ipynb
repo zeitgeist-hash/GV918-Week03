{
  "nbformat": 4,
  "nbformat_minor": 0,
  "metadata": {
    "colab": {
      "name": "Week 03 Class - Pandas IO.ipynb",
      "provenance": [],
      "collapsed_sections": [],
      "toc_visible": true
    },
    "kernelspec": {
      "name": "python3",
      "display_name": "Python 3"
    }
  },
  "cells": [
    {
      "cell_type": "markdown",
      "metadata": {
        "id": "H09hKDOdzWar"
      },
      "source": [
        "## New Zealand Crime Data\n",
        "\n",
        "- We will use New Zealand crime data, hosted on a government website"
      ]
    },
    {
      "cell_type": "markdown",
      "metadata": {
        "id": "KHZKFxh0z2l5"
      },
      "source": [
        "## Import Pandas"
      ]
    },
    {
      "cell_type": "code",
      "metadata": {
        "id": "djr6Dc7Zz4up"
      },
      "source": [
        "import pandas as pd"
      ],
      "execution_count": 2,
      "outputs": []
    },
    {
      "cell_type": "code",
      "metadata": {
        "id": "kY1bmtVdyTJr",
        "outputId": "78b3b605-e566-47eb-8b43-936f660fbc0b",
        "colab": {
          "base_uri": "https://localhost:8080/"
        }
      },
      "source": [
        "from google.colab import drive\n",
        "drive.mount('/content/drive')"
      ],
      "execution_count": 3,
      "outputs": [
        {
          "output_type": "stream",
          "text": [
            "Mounted at /content/drive\n"
          ],
          "name": "stdout"
        }
      ]
    },
    {
      "cell_type": "markdown",
      "metadata": {
        "id": "ixE0rf8AywyC"
      },
      "source": [
        "## Download the data\n",
        "\n",
        "The file url is:\n",
        "https://www.stats.govt.nz/assets/Uploads/Tools/CSV-files-for-download/analysis-public-place-assaults-sexual-assaults-and-robberies-2015-csv.csv\n",
        "\n",
        "Get the file with one of the methods:\n",
        "\n",
        "1. Use `!wget`\n",
        "2. Use the browser, download to local, and upload on your google drive\n",
        "3. Download the file, then use the following commands (but didn't work in my environment...)\n",
        "    ```\n",
        "    from google.colab import files\n",
        "    uploaded = files.upload()\n",
        "    ```"
      ]
    },
    {
      "cell_type": "code",
      "metadata": {
        "id": "OH4jPR-KL1dZ",
        "outputId": "fcc5a382-bb1e-4065-a5ec-9b0d486e2a58",
        "colab": {
          "base_uri": "https://localhost:8080/"
        }
      },
      "source": [
        "!wget https://www.stats.govt.nz/assets/Uploads/Tools/CSV-files-for-download/analysis-public-place-assaults-sexual-assaults-and-robberies-2015-csv.csv"
      ],
      "execution_count": 6,
      "outputs": [
        {
          "output_type": "stream",
          "text": [
            "--2020-10-29 00:45:28--  https://www.stats.govt.nz/assets/Uploads/Tools/CSV-files-for-download/analysis-public-place-assaults-sexual-assaults-and-robberies-2015-csv.csv\n",
            "Resolving www.stats.govt.nz (www.stats.govt.nz)... 45.60.11.104\n",
            "Connecting to www.stats.govt.nz (www.stats.govt.nz)|45.60.11.104|:443... connected.\n",
            "HTTP request sent, awaiting response... 200 OK\n",
            "Length: 234466 (229K) [text/csv]\n",
            "Saving to: ‘analysis-public-place-assaults-sexual-assaults-and-robberies-2015-csv.csv’\n",
            "\n",
            "analysis-public-pla 100%[===================>] 228.97K   476KB/s    in 0.5s    \n",
            "\n",
            "2020-10-29 00:45:30 (476 KB/s) - ‘analysis-public-place-assaults-sexual-assaults-and-robberies-2015-csv.csv’ saved [234466/234466]\n",
            "\n"
          ],
          "name": "stdout"
        }
      ]
    },
    {
      "cell_type": "markdown",
      "metadata": {
        "id": "bp5kMlbJ1v1k"
      },
      "source": [
        "### Open the file\n",
        "\n",
        "- using a method in pd, you can open the file as DataFrame\n",
        "- then, see the file contents with `.head()` method"
      ]
    },
    {
      "cell_type": "code",
      "metadata": {
        "id": "qOG3hlCIzouq"
      },
      "source": [
        "df_nz = pd.read_csv(\"/content/drive/My Drive/Colab Notebooks/analysis-public-place-assaults-sexual-assaults-and-robberies-2015-csv.csv\")"
      ],
      "execution_count": 4,
      "outputs": []
    },
    {
      "cell_type": "code",
      "metadata": {
        "id": "JPNHXPiqzc3Q",
        "outputId": "b47f8eee-4a15-47be-9b0c-56bbd89bba4e",
        "colab": {
          "base_uri": "https://localhost:8080/",
          "height": 309
        }
      },
      "source": [
        "df_nz.head()"
      ],
      "execution_count": 5,
      "outputs": [
        {
          "output_type": "execute_result",
          "data": {
            "text/html": [
              "<div>\n",
              "<style scoped>\n",
              "    .dataframe tbody tr th:only-of-type {\n",
              "        vertical-align: middle;\n",
              "    }\n",
              "\n",
              "    .dataframe tbody tr th {\n",
              "        vertical-align: top;\n",
              "    }\n",
              "\n",
              "    .dataframe thead th {\n",
              "        text-align: right;\n",
              "    }\n",
              "</style>\n",
              "<table border=\"1\" class=\"dataframe\">\n",
              "  <thead>\n",
              "    <tr style=\"text-align: right;\">\n",
              "      <th></th>\n",
              "      <th>Index</th>\n",
              "      <th>Area_unit_2013_code</th>\n",
              "      <th>Area_unit_2013_label</th>\n",
              "      <th>Victimisations_calendar_year_2015</th>\n",
              "      <th>Population_mid_point_2015</th>\n",
              "      <th>Rate_per_10000_population</th>\n",
              "      <th>Rate_ratio_NZ_average_rate</th>\n",
              "      <th>Urban_area_2013_code</th>\n",
              "      <th>Urban_area_2013_label</th>\n",
              "      <th>Urban_area_type</th>\n",
              "      <th>Territorial_authority_area_2013_code</th>\n",
              "      <th>Territorial_authority_area_2013_label</th>\n",
              "      <th>Region_2013_code</th>\n",
              "      <th>Region_2013_label</th>\n",
              "    </tr>\n",
              "  </thead>\n",
              "  <tbody>\n",
              "    <tr>\n",
              "      <th>0</th>\n",
              "      <td>1</td>\n",
              "      <td>514102</td>\n",
              "      <td>Auckland Central West</td>\n",
              "      <td>550</td>\n",
              "      <td>15900</td>\n",
              "      <td>346</td>\n",
              "      <td>6.6</td>\n",
              "      <td>4</td>\n",
              "      <td>Central Auckland Zone</td>\n",
              "      <td>Main urban area</td>\n",
              "      <td>76</td>\n",
              "      <td>Auckland</td>\n",
              "      <td>2</td>\n",
              "      <td>Auckland Region</td>\n",
              "    </tr>\n",
              "    <tr>\n",
              "      <th>1</th>\n",
              "      <td>2</td>\n",
              "      <td>573101</td>\n",
              "      <td>Willis Street-Cambridge Terrace</td>\n",
              "      <td>447</td>\n",
              "      <td>8300</td>\n",
              "      <td>539</td>\n",
              "      <td>10.3</td>\n",
              "      <td>20</td>\n",
              "      <td>Wellington Zone</td>\n",
              "      <td>Main urban area</td>\n",
              "      <td>47</td>\n",
              "      <td>Wellington City</td>\n",
              "      <td>9</td>\n",
              "      <td>Wellington Region</td>\n",
              "    </tr>\n",
              "    <tr>\n",
              "      <th>2</th>\n",
              "      <td>3</td>\n",
              "      <td>529700</td>\n",
              "      <td>Hamilton Central</td>\n",
              "      <td>380</td>\n",
              "      <td>3170</td>\n",
              "      <td>1,199</td>\n",
              "      <td>22.9</td>\n",
              "      <td>6</td>\n",
              "      <td>Hamilton Zone</td>\n",
              "      <td>Main urban area</td>\n",
              "      <td>16</td>\n",
              "      <td>Hamilton City</td>\n",
              "      <td>3</td>\n",
              "      <td>Waikato Region</td>\n",
              "    </tr>\n",
              "    <tr>\n",
              "      <th>3</th>\n",
              "      <td>4</td>\n",
              "      <td>514103</td>\n",
              "      <td>Auckland Central East</td>\n",
              "      <td>375</td>\n",
              "      <td>13250</td>\n",
              "      <td>283</td>\n",
              "      <td>5.4</td>\n",
              "      <td>4</td>\n",
              "      <td>Central Auckland Zone</td>\n",
              "      <td>Main urban area</td>\n",
              "      <td>76</td>\n",
              "      <td>Auckland</td>\n",
              "      <td>2</td>\n",
              "      <td>Auckland Region</td>\n",
              "    </tr>\n",
              "    <tr>\n",
              "      <th>4</th>\n",
              "      <td>5</td>\n",
              "      <td>591500</td>\n",
              "      <td>Cathedral Square</td>\n",
              "      <td>305</td>\n",
              "      <td>570</td>\n",
              "      <td>5,351</td>\n",
              "      <td>102.3</td>\n",
              "      <td>22</td>\n",
              "      <td>Christchurch</td>\n",
              "      <td>Main urban area</td>\n",
              "      <td>60</td>\n",
              "      <td>Christchurch City</td>\n",
              "      <td>13</td>\n",
              "      <td>Canterbury Region</td>\n",
              "    </tr>\n",
              "  </tbody>\n",
              "</table>\n",
              "</div>"
            ],
            "text/plain": [
              "   Index  Area_unit_2013_code  ... Region_2013_code  Region_2013_label\n",
              "0      1               514102  ...                2    Auckland Region\n",
              "1      2               573101  ...                9  Wellington Region\n",
              "2      3               529700  ...                3     Waikato Region\n",
              "3      4               514103  ...                2    Auckland Region\n",
              "4      5               591500  ...               13  Canterbury Region\n",
              "\n",
              "[5 rows x 14 columns]"
            ]
          },
          "metadata": {
            "tags": []
          },
          "execution_count": 5
        }
      ]
    },
    {
      "cell_type": "markdown",
      "metadata": {
        "id": "B4_XkbiTzyzY"
      },
      "source": [
        "## Open directly from URL\n",
        "\n",
        "Alternatively, you can use URL to open it directly..."
      ]
    },
    {
      "cell_type": "code",
      "metadata": {
        "id": "YQI-ou4JzvuO"
      },
      "source": [
        "df_direct = pd.read_csv(\"https://www.stats.govt.nz/assets/Uploads/Tools/CSV-files-for-download/analysis-public-place-assaults-sexual-assaults-and-robberies-2015-csv.csv\")"
      ],
      "execution_count": 7,
      "outputs": []
    },
    {
      "cell_type": "markdown",
      "metadata": {
        "id": "hamvTYsLK62s"
      },
      "source": [
        "## Saving the data\n",
        "\n",
        "Pandas supports numerous types of data files under `dfname.to_*`, including\n",
        "\n",
        "- `dfname.to_csv()`\n",
        "- `dfname.to_excel()`\n",
        "- `dfname.to_stata()`\n",
        "\n",
        "Let's try some of them.\n",
        "\n",
        "\n"
      ]
    },
    {
      "cell_type": "markdown",
      "metadata": {
        "id": "-ZPgyZK6MVhr"
      },
      "source": [
        "### CSV\n",
        "\n",
        "- Write the data in csv format, then read again with pandas"
      ]
    },
    {
      "cell_type": "code",
      "metadata": {
        "id": "qcQQ3RjCMUee"
      },
      "source": [
        "df.to_csv(\"/content/drive/My Drive/temp.csv\")"
      ],
      "execution_count": null,
      "outputs": []
    },
    {
      "cell_type": "code",
      "metadata": {
        "id": "NF5lbPn41q7L"
      },
      "source": [
        "df.to_csv(\"temp.csv\")\n",
        "\n",
        "df2 = pd.read_csv(\"temp.csv\")"
      ],
      "execution_count": null,
      "outputs": []
    },
    {
      "cell_type": "markdown",
      "metadata": {
        "id": "afBCpB29MiDP"
      },
      "source": [
        "### Excel\n",
        "\n",
        "- Write an excel file, open with Google sheet or Excel\n"
      ]
    },
    {
      "cell_type": "code",
      "metadata": {
        "id": "5w8PDZJmMtf5"
      },
      "source": [
        "df.to_excel(\"temp.xlsx\")"
      ],
      "execution_count": null,
      "outputs": []
    }
  ]
}