{
  "nbformat": 4,
  "nbformat_minor": 0,
  "metadata": {
    "colab": {
      "name": "“Week 03 Class - NumPy.ipynb",
      "provenance": [],
      "collapsed_sections": [],
      "toc_visible": true,
      "include_colab_link": true
    },
    "kernelspec": {
      "name": "python3",
      "display_name": "Python 3"
    }
  },
  "cells": [
    {
      "cell_type": "markdown",
      "metadata": {
        "id": "view-in-github",
        "colab_type": "text"
      },
      "source": [
        "<a href=\"https://colab.research.google.com/github/zeitgeist-hash/GV918-Week03/blob/main/%E2%80%9CWeek_03_Class_NumPy.ipynb\" target=\"_parent\"><img src=\"https://colab.research.google.com/assets/colab-badge.svg\" alt=\"Open In Colab\"/></a>"
      ]
    },
    {
      "cell_type": "markdown",
      "metadata": {
        "id": "MHE4d-Ptt9Wh"
      },
      "source": [
        "## Import NumPy"
      ]
    },
    {
      "cell_type": "code",
      "metadata": {
        "id": "Eq5fIicst5O1"
      },
      "source": [
        "import numpy as np"
      ],
      "execution_count": 5,
      "outputs": []
    },
    {
      "cell_type": "markdown",
      "metadata": {
        "id": "UmmODwnnuB8M"
      },
      "source": [
        "## Create NumPy arrays"
      ]
    },
    {
      "cell_type": "markdown",
      "metadata": {
        "id": "jPiQM5eyuksQ"
      },
      "source": [
        "### Create following 1d arrays\n",
        "\n",
        "```\n",
        "array([0, 1, 2, 3, 4, 5, 6, 7, 8, 9])\n",
        "\n",
        "array([  1,   2,   3,   4,   5,   6,   7,   8,   9,  10,  11,  12,  13,\n",
        "        14,  15,  16,  17,  18,  19,  20,  21,  22,  23,  24,  25,  26,\n",
        "        27,  28,  29,  30,  31,  32,  33,  34,  35,  36,  37,  38,  39,\n",
        "        40,  41,  42,  43,  44,  45,  46,  47,  48,  49,  50,  51,  52,\n",
        "        53,  54,  55,  56,  57,  58,  59,  60,  61,  62,  63,  64,  65,\n",
        "        66,  67,  68,  69,  70,  71,  72,  73,  74,  75,  76,  77,  78,\n",
        "        79,  80,  81,  82,  83,  84,  85,  86,  87,  88,  89,  90,  91,\n",
        "        92,  93,  94,  95,  96,  97,  98,  99, 100])\n",
        "\n",
        "array([1., 1., 1., 1., 1.])\n",
        "\n",
        "```\n"
      ]
    },
    {
      "cell_type": "code",
      "metadata": {
        "id": "_JDeQYayuWyQ",
        "outputId": "1f2331a5-cd79-4a90-f136-7aaad77176fa",
        "colab": {
          "base_uri": "https://localhost:8080/"
        }
      },
      "source": [
        "np.array(range(10))"
      ],
      "execution_count": 6,
      "outputs": [
        {
          "output_type": "execute_result",
          "data": {
            "text/plain": [
              "array([0, 1, 2, 3, 4, 5, 6, 7, 8, 9])"
            ]
          },
          "metadata": {
            "tags": []
          },
          "execution_count": 6
        }
      ]
    },
    {
      "cell_type": "code",
      "metadata": {
        "id": "7ovfKdW-MQ5D",
        "outputId": "c91b895b-8972-442b-c4eb-ebae13e5bc0c",
        "colab": {
          "base_uri": "https://localhost:8080/"
        }
      },
      "source": [
        "np.arange(1, 101, 1)"
      ],
      "execution_count": 7,
      "outputs": [
        {
          "output_type": "execute_result",
          "data": {
            "text/plain": [
              "array([  1,   2,   3,   4,   5,   6,   7,   8,   9,  10,  11,  12,  13,\n",
              "        14,  15,  16,  17,  18,  19,  20,  21,  22,  23,  24,  25,  26,\n",
              "        27,  28,  29,  30,  31,  32,  33,  34,  35,  36,  37,  38,  39,\n",
              "        40,  41,  42,  43,  44,  45,  46,  47,  48,  49,  50,  51,  52,\n",
              "        53,  54,  55,  56,  57,  58,  59,  60,  61,  62,  63,  64,  65,\n",
              "        66,  67,  68,  69,  70,  71,  72,  73,  74,  75,  76,  77,  78,\n",
              "        79,  80,  81,  82,  83,  84,  85,  86,  87,  88,  89,  90,  91,\n",
              "        92,  93,  94,  95,  96,  97,  98,  99, 100])"
            ]
          },
          "metadata": {
            "tags": []
          },
          "execution_count": 7
        }
      ]
    },
    {
      "cell_type": "code",
      "metadata": {
        "id": "RMRBnHTPLtja",
        "outputId": "542528e1-e505-4d43-e127-5773af62d58f",
        "colab": {
          "base_uri": "https://localhost:8080/"
        }
      },
      "source": [
        "np.ones((1, 5), dtype=float)"
      ],
      "execution_count": 8,
      "outputs": [
        {
          "output_type": "execute_result",
          "data": {
            "text/plain": [
              "array([[1., 1., 1., 1., 1.]])"
            ]
          },
          "metadata": {
            "tags": []
          },
          "execution_count": 8
        }
      ]
    },
    {
      "cell_type": "code",
      "metadata": {
        "id": "sRmyksTQPcYG",
        "outputId": "83375909-5f0b-4525-80a7-cdaba15dab2a",
        "colab": {
          "base_uri": "https://localhost:8080/"
        }
      },
      "source": [
        "np.ones(5)"
      ],
      "execution_count": 9,
      "outputs": [
        {
          "output_type": "execute_result",
          "data": {
            "text/plain": [
              "array([1., 1., 1., 1., 1.])"
            ]
          },
          "metadata": {
            "tags": []
          },
          "execution_count": 9
        }
      ]
    },
    {
      "cell_type": "markdown",
      "metadata": {
        "id": "3gxN51KiuXT4"
      },
      "source": [
        "### Create following 2d arrays\n",
        "\n",
        "```\n",
        "array([[31, 22, 48],\n",
        "       [52, 33, 40],\n",
        "       [72,  8, 37]])\n",
        "\n",
        "array([[0., 0., 0., 0., 0.],\n",
        "       [0., 0., 0., 0., 0.],\n",
        "       [0., 0., 0., 0., 0.],\n",
        "       [0., 0., 0., 0., 0.]])\n",
        "\n",
        "array([[ 0,  1,  2,  3],\n",
        "       [ 4,  5,  6,  7],\n",
        "       [ 8,  9, 10, 11],\n",
        "       [12, 13, 14, 15],\n",
        "       [16, 17, 18, 19],\n",
        "       [20, 21, 22, 23]])\n",
        "\n",
        "```"
      ]
    },
    {
      "cell_type": "code",
      "metadata": {
        "id": "fMnnpMKKW__f",
        "outputId": "9d5110cf-5bac-4ea5-b6e7-7c01484adfe8",
        "colab": {
          "base_uri": "https://localhost:8080/"
        }
      },
      "source": [
        "np.array( [[31, 22, 48], [52, 33, 40], [72, 8, 37]])"
      ],
      "execution_count": 10,
      "outputs": [
        {
          "output_type": "execute_result",
          "data": {
            "text/plain": [
              "array([[31, 22, 48],\n",
              "       [52, 33, 40],\n",
              "       [72,  8, 37]])"
            ]
          },
          "metadata": {
            "tags": []
          },
          "execution_count": 10
        }
      ]
    },
    {
      "cell_type": "code",
      "metadata": {
        "id": "0ed7y1ozuVg7",
        "outputId": "e3a993aa-ec89-4019-cfc5-dad7f7add20d",
        "colab": {
          "base_uri": "https://localhost:8080/"
        }
      },
      "source": [
        "np.zeros((4, 5), dtype=float)"
      ],
      "execution_count": 11,
      "outputs": [
        {
          "output_type": "execute_result",
          "data": {
            "text/plain": [
              "array([[0., 0., 0., 0., 0.],\n",
              "       [0., 0., 0., 0., 0.],\n",
              "       [0., 0., 0., 0., 0.],\n",
              "       [0., 0., 0., 0., 0.]])"
            ]
          },
          "metadata": {
            "tags": []
          },
          "execution_count": 11
        }
      ]
    },
    {
      "cell_type": "code",
      "metadata": {
        "id": "u69uhE4MQg-3",
        "outputId": "d6424696-4978-4a04-84ca-42c8ad209c93",
        "colab": {
          "base_uri": "https://localhost:8080/"
        }
      },
      "source": [
        "#generate an array\n",
        "np.arange(24).reshape(6, 4)"
      ],
      "execution_count": 12,
      "outputs": [
        {
          "output_type": "execute_result",
          "data": {
            "text/plain": [
              "array([[ 0,  1,  2,  3],\n",
              "       [ 4,  5,  6,  7],\n",
              "       [ 8,  9, 10, 11],\n",
              "       [12, 13, 14, 15],\n",
              "       [16, 17, 18, 19],\n",
              "       [20, 21, 22, 23]])"
            ]
          },
          "metadata": {
            "tags": []
          },
          "execution_count": 12
        }
      ]
    },
    {
      "cell_type": "markdown",
      "metadata": {
        "id": "UndpTevKwPfi"
      },
      "source": [
        "### Generate arrays with random numbers\n",
        "\n",
        "- 1d array with 10 numbers from random uniform distribution\n",
        "- 1d array with 25 numbers from normal distribution\n",
        "- 4 x 5 array from random integer in [0, 100]"
      ]
    },
    {
      "cell_type": "code",
      "metadata": {
        "id": "aOfOmouhvlXu",
        "outputId": "c0d7c9c0-ae7a-4d0a-83fb-3c79c745261d",
        "colab": {
          "base_uri": "https://localhost:8080/"
        }
      },
      "source": [
        "np.random.rand(10)"
      ],
      "execution_count": 13,
      "outputs": [
        {
          "output_type": "execute_result",
          "data": {
            "text/plain": [
              "array([0.47850446, 0.7649414 , 0.72060554, 0.53910917, 0.72632909,\n",
              "       0.30295066, 0.2599688 , 0.80829942, 0.54995182, 0.61238839])"
            ]
          },
          "metadata": {
            "tags": []
          },
          "execution_count": 13
        }
      ]
    },
    {
      "cell_type": "code",
      "metadata": {
        "id": "QXb9yFF_R2CA",
        "outputId": "a9229700-d4e1-4af8-8894-ca6e0ef3599b",
        "colab": {
          "base_uri": "https://localhost:8080/"
        }
      },
      "source": [
        "np.random.randn(25)"
      ],
      "execution_count": 14,
      "outputs": [
        {
          "output_type": "execute_result",
          "data": {
            "text/plain": [
              "array([ 9.18406292e-01,  5.71247548e-01, -5.26911476e-01,  4.89810165e-02,\n",
              "       -4.22023908e-04, -1.11312433e+00,  3.57436402e-01, -1.02438311e+00,\n",
              "        3.10022020e-01, -8.75543811e-01, -1.00435137e-01, -1.48765913e+00,\n",
              "       -9.24035169e-01,  7.36566437e-01,  1.93792392e-01, -8.85884373e-02,\n",
              "        4.71340923e-01, -1.46314943e-01, -6.63051692e-02,  1.83802150e-01,\n",
              "       -4.89335135e-01,  6.96472614e-01, -7.81054397e-02, -1.82326508e-01,\n",
              "       -1.15241407e-02])"
            ]
          },
          "metadata": {
            "tags": []
          },
          "execution_count": 14
        }
      ]
    },
    {
      "cell_type": "code",
      "metadata": {
        "id": "epSKl_ZvSvz8",
        "outputId": "599490c5-c400-4e56-e207-5a8d0e44bb02",
        "colab": {
          "base_uri": "https://localhost:8080/"
        }
      },
      "source": [
        "np.random.randint(0, 101, (4, 5))"
      ],
      "execution_count": 18,
      "outputs": [
        {
          "output_type": "execute_result",
          "data": {
            "text/plain": [
              "array([[95, 79, 55,  3, 21],\n",
              "       [22, 27, 89, 63, 88],\n",
              "       [47, 94, 74, 55, 56],\n",
              "       [54, 68, 64,  8, 44]])"
            ]
          },
          "metadata": {
            "tags": []
          },
          "execution_count": 18
        }
      ]
    },
    {
      "cell_type": "markdown",
      "metadata": {
        "id": "9SeTuV27ba77"
      },
      "source": [
        "## Array Indexing\n"
      ]
    },
    {
      "cell_type": "markdown",
      "metadata": {
        "id": "x5yIpaijg5TU"
      },
      "source": [
        "\n",
        "### 1d array indexing \n",
        "\n",
        "- From the following array, extract the elements shown below "
      ]
    },
    {
      "cell_type": "code",
      "metadata": {
        "id": "b5uC3m9Qbcy0"
      },
      "source": [
        "arr_1d = np.array([41, 42, 43, 44, 45, 46, 47, 48, 49, 50, 51, 52, \n",
        "                   53, 54, 55, 56, 57, 58, 59, 60])"
      ],
      "execution_count": 22,
      "outputs": []
    },
    {
      "cell_type": "markdown",
      "metadata": {
        "id": "8hizvuB7c44I"
      },
      "source": [
        "1. \n",
        "    ```\n",
        "    array([41, 42, 43, 44])\n",
        "    ```\n",
        "1. \n",
        "    ```\n",
        "    array([56, 57, 58, 59, 60])\n",
        "    ```\n",
        "1. \n",
        "    ```\n",
        "    array([51, 52, 53])\n",
        "    ```\n",
        "1. \n",
        "    ```\n",
        "    array([42, 55, 49])\n",
        "    ```\n"
      ]
    },
    {
      "cell_type": "code",
      "metadata": {
        "id": "pF6xaZ6TXoKg",
        "outputId": "82ab2573-58ce-4b5b-f569-888fd6df6e3c",
        "colab": {
          "base_uri": "https://localhost:8080/"
        }
      },
      "source": [
        "arr_1d[:4]"
      ],
      "execution_count": 23,
      "outputs": [
        {
          "output_type": "execute_result",
          "data": {
            "text/plain": [
              "array([41, 42, 43, 44])"
            ]
          },
          "metadata": {
            "tags": []
          },
          "execution_count": 23
        }
      ]
    },
    {
      "cell_type": "code",
      "metadata": {
        "id": "G8mF5T-4Xvy8",
        "outputId": "cb224bb9-e574-4a22-df0a-dcc9de726bbe",
        "colab": {
          "base_uri": "https://localhost:8080/"
        }
      },
      "source": [
        "bool_arr_1d = arr_1d < 45\n",
        "arr_1d[bool_arr_1d]\n",
        "arr_1d[arr_1d < 45] "
      ],
      "execution_count": 24,
      "outputs": [
        {
          "output_type": "execute_result",
          "data": {
            "text/plain": [
              "array([41, 42, 43, 44])"
            ]
          },
          "metadata": {
            "tags": []
          },
          "execution_count": 24
        }
      ]
    },
    {
      "cell_type": "code",
      "metadata": {
        "id": "t704gjxRYA3p",
        "outputId": "a555f0c1-92b2-4b19-ddda-ff4c94610a80",
        "colab": {
          "base_uri": "https://localhost:8080/"
        }
      },
      "source": [
        "arr_1d[-5:]"
      ],
      "execution_count": 25,
      "outputs": [
        {
          "output_type": "execute_result",
          "data": {
            "text/plain": [
              "array([56, 57, 58, 59, 60])"
            ]
          },
          "metadata": {
            "tags": []
          },
          "execution_count": 25
        }
      ]
    },
    {
      "cell_type": "code",
      "metadata": {
        "id": "A1qvmjyGYD5P",
        "outputId": "55c20f7b-aaa4-4a15-f087-6dbacb092839",
        "colab": {
          "base_uri": "https://localhost:8080/"
        }
      },
      "source": [
        "arr_1d[10:13]"
      ],
      "execution_count": 26,
      "outputs": [
        {
          "output_type": "execute_result",
          "data": {
            "text/plain": [
              "array([51, 52, 53])"
            ]
          },
          "metadata": {
            "tags": []
          },
          "execution_count": 26
        }
      ]
    },
    {
      "cell_type": "code",
      "metadata": {
        "id": "e5hDEsjnYL_6",
        "outputId": "0d66600f-d6a8-4311-f801-8d909e7f0ffd",
        "colab": {
          "base_uri": "https://localhost:8080/"
        }
      },
      "source": [
        "arr_1d[[1, 14, 8]]"
      ],
      "execution_count": 27,
      "outputs": [
        {
          "output_type": "execute_result",
          "data": {
            "text/plain": [
              "array([42, 55, 49])"
            ]
          },
          "metadata": {
            "tags": []
          },
          "execution_count": 27
        }
      ]
    },
    {
      "cell_type": "markdown",
      "metadata": {
        "id": "Z-1IJ3bpgzO1"
      },
      "source": [
        "### 2d array indexing\n",
        "\n",
        "- Do the same task for the following 2d array\n"
      ]
    },
    {
      "cell_type": "code",
      "metadata": {
        "id": "uDXhuohCbrTN"
      },
      "source": [
        "arr_2d = np.array([[11, 12, 13, 14, 15],\n",
        "       [21, 22, 23, 24, 25],\n",
        "       [31, 32, 33, 34, 35],\n",
        "       [41, 42, 43, 44, 45]])"
      ],
      "execution_count": 32,
      "outputs": []
    },
    {
      "cell_type": "markdown",
      "metadata": {
        "id": "W1TgSJBEll7E"
      },
      "source": [
        "Using indexing, generate the following sub-arrays\n",
        "\n",
        "1. \n",
        "    ```\n",
        "    array([[31, 32, 33, 34, 35],\n",
        "          [41, 42, 43, 44, 45]])\n",
        "    ```\n",
        "1. \n",
        "    ```\n",
        "    array([[11, 12],\n",
        "          [21, 22],\n",
        "          [31, 32],\n",
        "          [41, 42]])    \n",
        "    ```\n",
        "1. \n",
        "    ```\n",
        "    array([[32, 33],\n",
        "           [42, 43]])\n",
        "    ```\n",
        "1. \n",
        "    ```\n",
        "    array([[23, 25],\n",
        "          [43, 45]])    \n",
        "    ```\n"
      ]
    },
    {
      "cell_type": "code",
      "metadata": {
        "id": "s7gDUxw0Y3KL",
        "outputId": "91012953-7f60-46f6-e3e6-101dbe7b23a5",
        "colab": {
          "base_uri": "https://localhost:8080/"
        }
      },
      "source": [
        "arr_2d[2:]"
      ],
      "execution_count": 34,
      "outputs": [
        {
          "output_type": "execute_result",
          "data": {
            "text/plain": [
              "array([[31, 32, 33, 34, 35],\n",
              "       [41, 42, 43, 44, 45]])"
            ]
          },
          "metadata": {
            "tags": []
          },
          "execution_count": 34
        }
      ]
    },
    {
      "cell_type": "code",
      "metadata": {
        "id": "IWMSunI3ZZrX",
        "outputId": "9ee600eb-a7ca-4af1-ccb1-18bcba18afd1",
        "colab": {
          "base_uri": "https://localhost:8080/"
        }
      },
      "source": [
        "arr_2d[:,:2]"
      ],
      "execution_count": 35,
      "outputs": [
        {
          "output_type": "execute_result",
          "data": {
            "text/plain": [
              "array([[11, 12],\n",
              "       [21, 22],\n",
              "       [31, 32],\n",
              "       [41, 42]])"
            ]
          },
          "metadata": {
            "tags": []
          },
          "execution_count": 35
        }
      ]
    },
    {
      "cell_type": "code",
      "metadata": {
        "id": "qUSBhjapZdzb",
        "outputId": "ce8251ce-85f0-4714-e8b0-814636411afd",
        "colab": {
          "base_uri": "https://localhost:8080/"
        }
      },
      "source": [
        "arr_2d[-2:,1:3]"
      ],
      "execution_count": 38,
      "outputs": [
        {
          "output_type": "execute_result",
          "data": {
            "text/plain": [
              "array([[32, 33],\n",
              "       [42, 43]])"
            ]
          },
          "metadata": {
            "tags": []
          },
          "execution_count": 38
        }
      ]
    },
    {
      "cell_type": "code",
      "metadata": {
        "id": "bQIqM6-ZZwxi",
        "outputId": "206eedff-f4b3-4920-96b2-af9812d5c97c",
        "colab": {
          "base_uri": "https://localhost:8080/"
        }
      },
      "source": [
        "arr_2d[[1,3]][:,[2,4]]"
      ],
      "execution_count": 44,
      "outputs": [
        {
          "output_type": "execute_result",
          "data": {
            "text/plain": [
              "array([[23, 25],\n",
              "       [43, 45]])"
            ]
          },
          "metadata": {
            "tags": []
          },
          "execution_count": 44
        }
      ]
    },
    {
      "cell_type": "markdown",
      "metadata": {
        "id": "w9WRZ5QKmbF2"
      },
      "source": [
        "## Array Operations (1d)"
      ]
    },
    {
      "cell_type": "code",
      "metadata": {
        "id": "N5qSNNoVnGWS"
      },
      "source": [
        "arr_int = np.array([-448,  754,  990,   18, -689,  641, -199,  -44, -557, -222,  -18,\n",
        "       -687,  -69,  106,  821,  628, -427, -269, -624, -478,  886,  841,\n",
        "        999,   99,  964, -312,   42,  186,  298,  170, -441,  761,  900,\n",
        "       -207,  626, -322, -351,  169,  523, -131, -508,  181,  714,  171,\n",
        "       -131,  525,  810, -173,  424, -265,  242,  313,   57,  423,  685,\n",
        "        -16,  732,  372,  661,  654, -106,  443,  281, -125,  523,  476,\n",
        "        525,  577,  938, -140,  333,  180, -348,  591, -135,  961,  805,\n",
        "       -488, -422,  538, -433,  873,  568, -202, -181,  986,  769, -682,\n",
        "       -645,  883, -529,  -27,  656,  153, -165, -242, -678,  635, -135,\n",
        "        364])"
      ],
      "execution_count": 46,
      "outputs": []
    },
    {
      "cell_type": "markdown",
      "metadata": {
        "id": "Zo6WfmKAmfwL"
      },
      "source": [
        "For the array above, find the following numbers\n",
        " - The max/min number\n",
        " - Standard deviation of the array\n",
        " - Mean \n"
      ]
    },
    {
      "cell_type": "code",
      "metadata": {
        "id": "24NLHo3pbx11",
        "outputId": "4a228fd8-a258-42f4-f132-b8617cf3c35c",
        "colab": {
          "base_uri": "https://localhost:8080/"
        }
      },
      "source": [
        "arr_int.max()"
      ],
      "execution_count": 47,
      "outputs": [
        {
          "output_type": "execute_result",
          "data": {
            "text/plain": [
              "999"
            ]
          },
          "metadata": {
            "tags": []
          },
          "execution_count": 47
        }
      ]
    },
    {
      "cell_type": "code",
      "metadata": {
        "id": "74d7zRgeb00h",
        "outputId": "ce1eceaf-7fa4-4a91-8049-955e20afcda8",
        "colab": {
          "base_uri": "https://localhost:8080/"
        }
      },
      "source": [
        "arr_int.min()"
      ],
      "execution_count": 48,
      "outputs": [
        {
          "output_type": "execute_result",
          "data": {
            "text/plain": [
              "-689"
            ]
          },
          "metadata": {
            "tags": []
          },
          "execution_count": 48
        }
      ]
    },
    {
      "cell_type": "code",
      "metadata": {
        "id": "45O_WrOzb3Oq",
        "outputId": "6d7dd7d8-6c3a-4b41-893a-2304ff5f74f9",
        "colab": {
          "base_uri": "https://localhost:8080/"
        }
      },
      "source": [
        "arr_int.std()"
      ],
      "execution_count": 49,
      "outputs": [
        {
          "output_type": "execute_result",
          "data": {
            "text/plain": [
              "494.33985991420917"
            ]
          },
          "metadata": {
            "tags": []
          },
          "execution_count": 49
        }
      ]
    },
    {
      "cell_type": "code",
      "metadata": {
        "id": "eJln6H1bmaNH",
        "outputId": "78427d82-d364-4efe-86b2-d19b4ca15861",
        "colab": {
          "base_uri": "https://localhost:8080/"
        }
      },
      "source": [
        "arr_int.mean()"
      ],
      "execution_count": 50,
      "outputs": [
        {
          "output_type": "execute_result",
          "data": {
            "text/plain": [
              "181.73"
            ]
          },
          "metadata": {
            "tags": []
          },
          "execution_count": 50
        }
      ]
    },
    {
      "cell_type": "markdown",
      "metadata": {
        "id": "olADoo_SnvoJ"
      },
      "source": [
        "## Array Operations (2d)\n"
      ]
    },
    {
      "cell_type": "code",
      "metadata": {
        "id": "Gl5NVNOtn3kq"
      },
      "source": [
        "arr_normal = np.array([[-1.35589711,  0.32804138, -0.42081221, -0.26130734,  0.70162537,\n",
        "        -2.74984249,  0.68124585, -0.1580792 , -0.14275744,  0.46342884,\n",
        "         0.86430316, -0.07669887],\n",
        "       [-0.74704059, -0.9071367 , -1.64174011,  0.03933122,  0.37675907,\n",
        "         1.90269555,  0.44306442,  0.57069955, -0.28930021, -1.65834518,\n",
        "         0.91165489, -0.24778658],\n",
        "       [ 0.84422231, -2.61441156, -0.25364573,  0.75980507,  0.81245918,\n",
        "         0.4495238 , -1.73419967,  0.06119128,  0.20092236, -0.02241897,\n",
        "        -0.35468241, -1.10875505],\n",
        "       [-1.2590743 , -1.798422  ,  0.29824561,  0.61399003, -2.84641582,\n",
        "        -0.06309182, -0.86245245, -2.00527547, -1.36537977,  1.81020212,\n",
        "         0.15409758,  0.77957902],\n",
        "       [ 0.33642384,  1.6658424 ,  1.01517418, -0.94632536, -0.67836296,\n",
        "        -1.58780134, -1.71699404,  0.19439649,  0.16351275, -2.08961948,\n",
        "        -0.67480237, -0.98241524],\n",
        "       [-0.97960876,  0.7256977 ,  0.2322489 , -0.79256359, -0.86636526,\n",
        "         1.01071361,  0.06147106,  0.31257068,  0.54583426, -0.8035504 ,\n",
        "         0.73390521,  0.05112845],\n",
        "       [-0.17791452, -0.92611399,  0.27351997,  0.25378587,  0.78804843,\n",
        "        -1.06393523,  2.65299826, -0.91232348, -2.93197926,  1.73152395,\n",
        "         0.59431283, -0.10374418],\n",
        "       [ 0.57609783,  0.51063139, -0.06848566,  2.65524085,  0.90236844,\n",
        "        -0.63241958,  0.99904813, -0.6191799 ,  0.44955157, -1.99264591,\n",
        "        -0.94398059, -0.68643509],\n",
        "       [ 0.0329195 , -0.64513047,  0.46339352,  0.22950196,  1.03883248,\n",
        "         2.09548912,  0.91148567, -1.05809727, -2.82315242, -1.24258192,\n",
        "         0.32577142, -0.56579935],\n",
        "       [ 0.76420142,  0.4468688 ,  0.69440669, -0.69501969,  0.99550496,\n",
        "         0.04774205, -0.38475403, -0.34571432, -1.54386284,  2.93070093,\n",
        "         0.55347872, -0.90081639]])"
      ],
      "execution_count": 51,
      "outputs": []
    },
    {
      "cell_type": "markdown",
      "metadata": {
        "id": "3XUvKcjepR2f"
      },
      "source": [
        "For the array above, find the following numbers\n",
        " - The max/min number \n",
        "    - in the entire array\n",
        "    - in each row\n",
        "    - in each column\n",
        " - Mean of \n",
        "    - the entire array\n",
        "    - each row \n",
        "    - each column\n"
      ]
    },
    {
      "cell_type": "code",
      "metadata": {
        "id": "c7H25CyqxEnT",
        "outputId": "9df2b958-928b-4f6d-f710-69acd18d3391",
        "colab": {
          "base_uri": "https://localhost:8080/"
        }
      },
      "source": [
        "#entire max\n",
        "arr_normal.max()"
      ],
      "execution_count": 52,
      "outputs": [
        {
          "output_type": "execute_result",
          "data": {
            "text/plain": [
              "2.93070093"
            ]
          },
          "metadata": {
            "tags": []
          },
          "execution_count": 52
        }
      ]
    },
    {
      "cell_type": "code",
      "metadata": {
        "id": "NuWVQerSdLFi",
        "outputId": "c44978d0-b671-4394-e2ef-7c27d96553e6",
        "colab": {
          "base_uri": "https://localhost:8080/"
        }
      },
      "source": [
        "#row max\n",
        "np.max(arr_normal, axis = 1)\n",
        "#or\n",
        "arr_normal.max(axis = 1)"
      ],
      "execution_count": 53,
      "outputs": [
        {
          "output_type": "execute_result",
          "data": {
            "text/plain": [
              "array([0.86430316, 1.90269555, 0.84422231, 1.81020212, 1.6658424 ,\n",
              "       1.01071361, 2.65299826, 2.65524085, 2.09548912, 2.93070093])"
            ]
          },
          "metadata": {
            "tags": []
          },
          "execution_count": 53
        }
      ]
    },
    {
      "cell_type": "code",
      "metadata": {
        "id": "GOI8Rj0UdbKi",
        "outputId": "59c9df91-1be1-4d30-d5eb-6ce860184874",
        "colab": {
          "base_uri": "https://localhost:8080/"
        }
      },
      "source": [
        "#column max\n",
        "np.max(arr_normal, axis = 0)\n",
        "#or\n",
        "arr_normal.max(axis = 0)"
      ],
      "execution_count": 54,
      "outputs": [
        {
          "output_type": "execute_result",
          "data": {
            "text/plain": [
              "array([0.84422231, 1.6658424 , 1.01517418, 2.65524085, 1.03883248,\n",
              "       2.09548912, 2.65299826, 0.57069955, 0.54583426, 2.93070093,\n",
              "       0.91165489, 0.77957902])"
            ]
          },
          "metadata": {
            "tags": []
          },
          "execution_count": 54
        }
      ]
    },
    {
      "cell_type": "markdown",
      "metadata": {
        "id": "zhajIm8uhiVI"
      },
      "source": [
        "# Control Sequences (optional)\n",
        "\n",
        "## Programming FizzBuzz\n",
        "\n",
        "Write a code for FizzBuzz. The definition of the program is:\n",
        "\n",
        "> A program that prints the numbers from 1 to 100. But for multiples of three print “Fizz” instead of the number and for the multiples of five print “Buzz”. For numbers which are multiples of both three and five print “FizzBuzz”. (from [here](https://www.tomdalling.com/blog/software-design/fizzbuzz-in-too-much-detail/#:~:text=FizzBuzz%20is%20a%20very%20simple,numbers%20from%201%20to%20100))\n",
        "\n",
        "##### Note:\n",
        "\n",
        "- You can find numerous examples online, but please try by yourself :)\n",
        "- The output is like:\n",
        "    ```\n",
        "    [1, 2, 'Fizz', 4, 'Buzz', 'Fizz', 7, 8, 'Fizz', 'Buzz', 11, 'Fizz', 13, 14,\n",
        "     'FizzBuzz', 16, 17, 'Fizz', 19, 'Buzz', 'Fizz', 22, 23, 'Fizz', 'Buzz', \n",
        "     26, 'Fizz', 28, 29, 'FizzBuzz', 31, 32, 'Fizz', 34, 'Buzz', 'Fizz', 37, \n",
        "     38, 'Fizz', 'Buzz', 41, 'Fizz', 43, 44, 'FizzBuzz', 46, 47, 'Fizz', 49, \n",
        "     'Buzz', 'Fizz', 52, 53, 'Fizz', 'Buzz', 56, 'Fizz', 58, 59, 'FizzBuzz', \n",
        "     61, 62, 'Fizz', 64, 'Buzz', 'Fizz', 67, 68, 'Fizz', 'Buzz', 71, 'Fizz', \n",
        "     73, 74, 'FizzBuzz', 76, 77, 'Fizz', 79, 'Buzz', 'Fizz', 82, 83, 'Fizz', \n",
        "     'Buzz', 86, 'Fizz', 88, 89, 'FizzBuzz', 91, 92, 'Fizz', 94, 'Buzz', \n",
        "     'Fizz', 97, 98, 'Fizz']\n",
        "    ```\n",
        "- You need to know how to use `%` (Modulus) operator ([Link](https://www.tutorialspoint.com/python/python_basic_operators.htm))\n",
        "\n"
      ]
    },
    {
      "cell_type": "code",
      "metadata": {
        "id": "ASi7d1p-kDyw",
        "outputId": "e8250073-c48d-4598-bd5b-dfdd0c36b241",
        "colab": {
          "base_uri": "https://localhost:8080/"
        }
      },
      "source": [
        "out_arr = []  #generate an emply array\n",
        "for i in range(1,100):\n",
        "  if i % 15 == 0:\n",
        "    i = \"FizzBuzz\"\n",
        "  elif i % 3 == 0:\n",
        "    i = \"Fizz\"\n",
        "  elif i % 5 == 0:\n",
        "    i = \"Buzz\"\n",
        "  out_arr.append(i)   #.append()方法用于在列表末尾添加新的对象（object）\n",
        "print(out_arr)"
      ],
      "execution_count": 61,
      "outputs": [
        {
          "output_type": "stream",
          "text": [
            "[1, 2, 'Fizz', 4, 'Buzz', 'Fizz', 7, 8, 'Fizz', 'Buzz', 11, 'Fizz', 13, 14, 'FizzBuzz', 16, 17, 'Fizz', 19, 'Buzz', 'Fizz', 22, 23, 'Fizz', 'Buzz', 26, 'Fizz', 28, 29, 'FizzBuzz', 31, 32, 'Fizz', 34, 'Buzz', 'Fizz', 37, 38, 'Fizz', 'Buzz', 41, 'Fizz', 43, 44, 'FizzBuzz', 46, 47, 'Fizz', 49, 'Buzz', 'Fizz', 52, 53, 'Fizz', 'Buzz', 56, 'Fizz', 58, 59, 'FizzBuzz', 61, 62, 'Fizz', 64, 'Buzz', 'Fizz', 67, 68, 'Fizz', 'Buzz', 71, 'Fizz', 73, 74, 'FizzBuzz', 76, 77, 'Fizz', 79, 'Buzz', 'Fizz', 82, 83, 'Fizz', 'Buzz', 86, 'Fizz', 88, 89, 'FizzBuzz', 91, 92, 'Fizz', 94, 'Buzz', 'Fizz', 97, 98, 'Fizz']\n"
          ],
          "name": "stdout"
        }
      ]
    }
  ]
}